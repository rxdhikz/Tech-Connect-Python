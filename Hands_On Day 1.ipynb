{
 "cells": [
  {
   "cell_type": "code",
   "execution_count": 1,
   "id": "7c205477",
   "metadata": {},
   "outputs": [
    {
     "name": "stdout",
     "output_type": "stream",
     "text": [
      "Hello World\n"
     ]
    }
   ],
   "source": [
    "print(\"Hello World\") #using print statement\n",
    "#this 'hash' symbol is used for commenting and what is typed along with it is known as a comment statement"
   ]
  },
  {
   "cell_type": "code",
   "execution_count": 1,
   "id": "5cd81a00",
   "metadata": {},
   "outputs": [
    {
     "name": "stdout",
     "output_type": "stream",
     "text": [
      "What is your name? Radhika\n",
      "Alo! Radhika\n"
     ]
    }
   ],
   "source": [
    "name=input('What is your name? ') #asking the user for an input (string), in this case it's a name\n",
    "print('Alo!', name) #printing a statement along with the input given by the user"
   ]
  },
  {
   "cell_type": "code",
   "execution_count": 3,
   "id": "157ca58d",
   "metadata": {},
   "outputs": [
    {
     "name": "stdout",
     "output_type": "stream",
     "text": [
      "Rads\n"
     ]
    }
   ],
   "source": [
    "name='Rads' #creating a variable\n",
    "print(name) #printing the above given input"
   ]
  },
  {
   "cell_type": "code",
   "execution_count": 5,
   "id": "0aabeeb6",
   "metadata": {
    "scrolled": true
   },
   "outputs": [
    {
     "name": "stdout",
     "output_type": "stream",
     "text": [
      "Rad\n"
     ]
    }
   ],
   "source": [
    "name=input()"
   ]
  },
  {
   "cell_type": "code",
   "execution_count": 6,
   "id": "a6720faa",
   "metadata": {},
   "outputs": [
    {
     "name": "stdout",
     "output_type": "stream",
     "text": [
      "Rodhika\n",
      "The name is... Rodhika\n"
     ]
    }
   ],
   "source": [
    "name=input()\n",
    "print('The name is...', name)"
   ]
  },
  {
   "cell_type": "code",
   "execution_count": 7,
   "id": "5b67bab2",
   "metadata": {},
   "outputs": [
    {
     "name": "stdout",
     "output_type": "stream",
     "text": [
      "Rodhika\n"
     ]
    }
   ],
   "source": [
    "print(name)"
   ]
  },
  {
   "cell_type": "code",
   "execution_count": 8,
   "id": "d5896404",
   "metadata": {},
   "outputs": [
    {
     "name": "stdout",
     "output_type": "stream",
     "text": [
      "<bound method Kernel.raw_input of <ipykernel.ipkernel.IPythonKernel object at 0x7f6c2e92e1d0>>\n"
     ]
    }
   ],
   "source": [
    "print(input)"
   ]
  },
  {
   "cell_type": "code",
   "execution_count": 9,
   "id": "5043d840",
   "metadata": {},
   "outputs": [
    {
     "name": "stdout",
     "output_type": "stream",
     "text": [
      "Hello! Welcome Aboard.\n",
      "Enter your details.\n",
      "What is your name?Radhika\n",
      "Hie Radhika Continue filling the other details.\n",
      "Enter your age:16\n",
      "Enter your gender M/F:F\n",
      "Enter your address:Milkie Way Galaxie, Choco Planet, Wafers - 14\n",
      "Enter your mobile number:9876543210\n",
      "Enter your email ID:sugariemint@twisters.com\n",
      "Thank You.\n",
      "Here are your details.\n",
      "Name: Radhika\n",
      "Age: 16\n",
      "Gender: F\n",
      "Address: Milkie Way Galaxie, Choco Planet, Wafers - 14\n",
      "Mobile Number: 9876543210\n",
      "Email ID: sugariemint@twisters.com\n"
     ]
    }
   ],
   "source": [
    "print('Hello! Welcome Aboard.')\n",
    "print('Enter your details.')\n",
    "name=input('What is your name?')\n",
    "print('Hie', name, 'Continue filling the other details.')\n",
    "age=int(input('Enter your age:')) #getting a number (integer) as an input form the user\n",
    "gender=input('Enter your gender M/F:')\n",
    "address=input('Enter your address:')\n",
    "phoneno=int(input('Enter your mobile number:'))\n",
    "emailid=input('Enter your email ID:')\n",
    "print('Thank You.')\n",
    "print('Here are your details.')\n",
    "print('Name:', name)\n",
    "print('Age:', age)\n",
    "print('Gender:', gender)\n",
    "print('Address:', address)\n",
    "print('Mobile Number:', phoneno)\n",
    "print('Email ID:', emailid)"
   ]
  }
 ],
 "metadata": {
  "kernelspec": {
   "display_name": "Python 3 (ipykernel)",
   "language": "python",
   "name": "python3"
  },
  "language_info": {
   "codemirror_mode": {
    "name": "ipython",
    "version": 3
   },
   "file_extension": ".py",
   "mimetype": "text/x-python",
   "name": "python",
   "nbconvert_exporter": "python",
   "pygments_lexer": "ipython3",
   "version": "3.11.1"
  }
 },
 "nbformat": 4,
 "nbformat_minor": 5
}
