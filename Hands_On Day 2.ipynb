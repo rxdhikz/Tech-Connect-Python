{
 "cells": [
  {
   "cell_type": "code",
   "execution_count": 1,
   "id": "e09e309f",
   "metadata": {},
   "outputs": [],
   "source": [
    "example1='welp' #string"
   ]
  },
  {
   "cell_type": "code",
   "execution_count": 2,
   "id": "b1d4701b",
   "metadata": {},
   "outputs": [],
   "source": [
    "example2=147856 #integer"
   ]
  },
  {
   "cell_type": "code",
   "execution_count": 3,
   "id": "d1ea5312",
   "metadata": {},
   "outputs": [],
   "source": [
    "example3=34.0 #float"
   ]
  },
  {
   "cell_type": "code",
   "execution_count": 4,
   "id": "d33f8435",
   "metadata": {},
   "outputs": [
    {
     "data": {
      "text/plain": [
       "str"
      ]
     },
     "execution_count": 4,
     "metadata": {},
     "output_type": "execute_result"
    }
   ],
   "source": [
    "type(example1) #finding out of which type the given data is"
   ]
  },
  {
   "cell_type": "code",
   "execution_count": 5,
   "id": "d991c78a",
   "metadata": {},
   "outputs": [
    {
     "data": {
      "text/plain": [
       "int"
      ]
     },
     "execution_count": 5,
     "metadata": {},
     "output_type": "execute_result"
    }
   ],
   "source": [
    "type(example2)"
   ]
  },
  {
   "cell_type": "code",
   "execution_count": 6,
   "id": "b022e8e0",
   "metadata": {},
   "outputs": [
    {
     "data": {
      "text/plain": [
       "float"
      ]
     },
     "execution_count": 6,
     "metadata": {},
     "output_type": "execute_result"
    }
   ],
   "source": [
    "type(example3)"
   ]
  },
  {
   "cell_type": "code",
   "execution_count": 7,
   "id": "f3d8ef0b",
   "metadata": {},
   "outputs": [
    {
     "data": {
      "text/plain": [
       "False"
      ]
     },
     "execution_count": 7,
     "metadata": {},
     "output_type": "execute_result"
    }
   ],
   "source": [
    "14>25 #checking if this condition is true or false"
   ]
  },
  {
   "cell_type": "code",
   "execution_count": 8,
   "id": "e1e0835f",
   "metadata": {},
   "outputs": [
    {
     "data": {
      "text/plain": [
       "True"
      ]
     },
     "execution_count": 8,
     "metadata": {},
     "output_type": "execute_result"
    }
   ],
   "source": [
    "36<58"
   ]
  },
  {
   "cell_type": "code",
   "execution_count": 9,
   "id": "e2e4c8c3",
   "metadata": {},
   "outputs": [
    {
     "data": {
      "text/plain": [
       "False"
      ]
     },
     "execution_count": 9,
     "metadata": {},
     "output_type": "execute_result"
    }
   ],
   "source": [
    "5==5.2 #an integer and a float"
   ]
  },
  {
   "cell_type": "code",
   "execution_count": 11,
   "id": "a6eb703c",
   "metadata": {},
   "outputs": [
    {
     "data": {
      "text/plain": [
       "True"
      ]
     },
     "execution_count": 11,
     "metadata": {},
     "output_type": "execute_result"
    }
   ],
   "source": [
    "45==45.0"
   ]
  },
  {
   "cell_type": "code",
   "execution_count": 12,
   "id": "0da9e496",
   "metadata": {},
   "outputs": [
    {
     "data": {
      "text/plain": [
       "True"
      ]
     },
     "execution_count": 12,
     "metadata": {},
     "output_type": "execute_result"
    }
   ],
   "source": [
    "63.0==63"
   ]
  },
  {
   "cell_type": "code",
   "execution_count": 20,
   "id": "eb88b5a2",
   "metadata": {
    "scrolled": true
   },
   "outputs": [
    {
     "name": "stdout",
     "output_type": "stream",
     "text": [
      "True\n"
     ]
    }
   ],
   "source": [
    "print(bool(14)) #where 14 has a boolean value"
   ]
  },
  {
   "cell_type": "code",
   "execution_count": 14,
   "id": "e2979b1c",
   "metadata": {},
   "outputs": [
    {
     "ename": "NameError",
     "evalue": "name 'darbooz' is not defined",
     "output_type": "error",
     "traceback": [
      "\u001b[0;31m---------------------------------------------------------------------------\u001b[0m",
      "\u001b[0;31mNameError\u001b[0m                                 Traceback (most recent call last)",
      "Cell \u001b[0;32mIn [14], line 1\u001b[0m\n\u001b[0;32m----> 1\u001b[0m \u001b[38;5;28mprint\u001b[39m(\u001b[38;5;28mbool\u001b[39m(darbooz))\n",
      "\u001b[0;31mNameError\u001b[0m: name 'darbooz' is not defined"
     ]
    }
   ],
   "source": [
    "print(bool(darbooz)) #where the word 'darbooz' isn't defined"
   ]
  },
  {
   "cell_type": "code",
   "execution_count": 15,
   "id": "192a36a9",
   "metadata": {},
   "outputs": [
    {
     "name": "stdout",
     "output_type": "stream",
     "text": [
      "False\n"
     ]
    }
   ],
   "source": [
    "print(bool(0)) #except zero every other number or data type has a boolean value"
   ]
  },
  {
   "cell_type": "code",
   "execution_count": 16,
   "id": "6026c0c8",
   "metadata": {},
   "outputs": [
    {
     "name": "stdout",
     "output_type": "stream",
     "text": [
      "True\n"
     ]
    }
   ],
   "source": [
    "print(bool('darbooz')) #where the word 'darbooz' is a string"
   ]
  },
  {
   "cell_type": "code",
   "execution_count": 17,
   "id": "9c10536e",
   "metadata": {},
   "outputs": [
    {
     "name": "stdout",
     "output_type": "stream",
     "text": [
      "False\n"
     ]
    }
   ],
   "source": [
    "print(bool())"
   ]
  },
  {
   "cell_type": "code",
   "execution_count": 18,
   "id": "45b2e4ee",
   "metadata": {},
   "outputs": [
    {
     "name": "stdout",
     "output_type": "stream",
     "text": [
      "False\n"
     ]
    }
   ],
   "source": [
    "print(bool('')) #with no space between quotes"
   ]
  },
  {
   "cell_type": "code",
   "execution_count": 19,
   "id": "b8d85421",
   "metadata": {},
   "outputs": [
    {
     "name": "stdout",
     "output_type": "stream",
     "text": [
      "True\n"
     ]
    }
   ],
   "source": [
    "print(bool(' ')) #with a space in between the quotes"
   ]
  },
  {
   "cell_type": "code",
   "execution_count": 21,
   "id": "eb006e29",
   "metadata": {},
   "outputs": [
    {
     "name": "stdout",
     "output_type": "stream",
     "text": [
      "Details.\n",
      "<class 'str'> <class 'int'> <class 'float'> are the details of this living human.\n"
     ]
    }
   ],
   "source": [
    "name='radhika'\n",
    "age=16\n",
    "weight=42.1\n",
    "print('Details.')\n",
    "print(type(name), type(age), type(weight), 'are the details of this living human.')"
   ]
  },
  {
   "cell_type": "code",
   "execution_count": 22,
   "id": "07dc5bd2",
   "metadata": {},
   "outputs": [
    {
     "name": "stdout",
     "output_type": "stream",
     "text": [
      "True\n"
     ]
    }
   ],
   "source": [
    "print(bool(print)) #print being a keyword"
   ]
  },
  {
   "cell_type": "code",
   "execution_count": 24,
   "id": "8c7410b8",
   "metadata": {},
   "outputs": [
    {
     "data": {
      "text/plain": [
       "'my hero academia'"
      ]
     },
     "execution_count": 24,
     "metadata": {},
     "output_type": "execute_result"
    }
   ],
   "source": [
    "anime=['one piece', 'spy family', 'dbz', 'bleach', 'my hero academia', 'jujujtsu kaisen', 'naruto'] #anime is a list\n",
    "anime[4] #index 4 is called out; indexing from the left - positive indexing\n",
    "#in lists indexing start from 0, when moving from the left and start from -1 when moving from the right"
   ]
  },
  {
   "cell_type": "code",
   "execution_count": 26,
   "id": "1e1a349f",
   "metadata": {},
   "outputs": [
    {
     "data": {
      "text/plain": [
       "'naruto'"
      ]
     },
     "execution_count": 26,
     "metadata": {},
     "output_type": "execute_result"
    }
   ],
   "source": [
    "anime[6] #6 is the index number, and the 6th index of anime is 'my hero academia'"
   ]
  },
  {
   "cell_type": "code",
   "execution_count": 27,
   "id": "237aab74",
   "metadata": {},
   "outputs": [
    {
     "data": {
      "text/plain": [
       "7"
      ]
     },
     "execution_count": 27,
     "metadata": {},
     "output_type": "execute_result"
    }
   ],
   "source": [
    "len(anime) #the number of elements in a list is the length of a list"
   ]
  },
  {
   "cell_type": "code",
   "execution_count": 28,
   "id": "7724bef6",
   "metadata": {},
   "outputs": [
    {
     "data": {
      "text/plain": [
       "10"
      ]
     },
     "execution_count": 28,
     "metadata": {},
     "output_type": "execute_result"
    }
   ],
   "source": [
    "wonderla='blue cross' #space is also considered as a character\n",
    "len(wonderla)"
   ]
  },
  {
   "cell_type": "code",
   "execution_count": 38,
   "id": "ed35b3f1",
   "metadata": {},
   "outputs": [
    {
     "name": "stdout",
     "output_type": "stream",
     "text": [
      "Length of list is: 5\n",
      "And you belong in........Lalalalala: human red cross\n"
     ]
    }
   ],
   "source": [
    "lolo=[123, '258', 'human red cross', 17.27, False] #int,str,str,float,boolean\n",
    "print('Length of list is:', len(lolo))\n",
    "print('And you belong in........Lalalalala:',lolo[2])"
   ]
  },
  {
   "cell_type": "code",
   "execution_count": 39,
   "id": "2c5eebcf",
   "metadata": {},
   "outputs": [
    {
     "data": {
      "text/plain": [
       "int"
      ]
     },
     "execution_count": 39,
     "metadata": {},
     "output_type": "execute_result"
    }
   ],
   "source": [
    "type(lolo[0]) #to find of which data type is the 0th index value of a given list"
   ]
  },
  {
   "cell_type": "code",
   "execution_count": 40,
   "id": "5f21ffd1",
   "metadata": {},
   "outputs": [
    {
     "data": {
      "text/plain": [
       "str"
      ]
     },
     "execution_count": 40,
     "metadata": {},
     "output_type": "execute_result"
    }
   ],
   "source": [
    "type(lolo[1]) #to find of which data type is the 1st index value of a given list"
   ]
  },
  {
   "cell_type": "code",
   "execution_count": 41,
   "id": "843e310c",
   "metadata": {},
   "outputs": [
    {
     "data": {
      "text/plain": [
       "str"
      ]
     },
     "execution_count": 41,
     "metadata": {},
     "output_type": "execute_result"
    }
   ],
   "source": [
    "type(lolo[2]) #to find of which data type is the 2nd index value of a given list"
   ]
  },
  {
   "cell_type": "code",
   "execution_count": 42,
   "id": "3129434a",
   "metadata": {},
   "outputs": [
    {
     "data": {
      "text/plain": [
       "float"
      ]
     },
     "execution_count": 42,
     "metadata": {},
     "output_type": "execute_result"
    }
   ],
   "source": [
    "type(lolo[3]) #to find of which data type is the 3rd index value of a given list"
   ]
  },
  {
   "cell_type": "code",
   "execution_count": 43,
   "id": "3671e2e6",
   "metadata": {},
   "outputs": [
    {
     "data": {
      "text/plain": [
       "bool"
      ]
     },
     "execution_count": 43,
     "metadata": {},
     "output_type": "execute_result"
    }
   ],
   "source": [
    "type(lolo[4]) #to find of which data type is the 4th index value of a given list"
   ]
  },
  {
   "cell_type": "code",
   "execution_count": 44,
   "id": "6174e789",
   "metadata": {},
   "outputs": [
    {
     "name": "stdout",
     "output_type": "stream",
     "text": [
      "Length of shades is: 7\n",
      "lilac\n"
     ]
    }
   ],
   "source": [
    "shades=['purple', 'black', 'grey', 'mint', 'glaucous','lilac','dioxazine']\n",
    "print('Length of shades is:', len(shades))\n",
    "print(shades[-2]) #indexing from the right side of the list - negative indexing"
   ]
  },
  {
   "cell_type": "code",
   "execution_count": 4,
   "id": "3ebb21ec",
   "metadata": {},
   "outputs": [
    {
     "name": "stdout",
     "output_type": "stream",
     "text": [
      "Some favorie songs of mine are:\n",
      "Tally is a moody song.\n",
      "['The Happiest Girl', 'Typa Gurl', 'Yeah Yeah Yeah', 'Lovesick Gurls', 'Tally']\n",
      "The Happiest Girl is a bright song.\n",
      "A road trip song is Yeah Yeah Yeah .\n"
     ]
    }
   ],
   "source": [
    "print('Some favorie songs of mine are:')\n",
    "songs=['The Happiest Girl', 'Typa Gurl', 'Yeah Yeah Yeah', 'Lovesick Gurls', 'Tally']\n",
    "print(songs[-1], 'is a moody song.')\n",
    "print(songs[0:5]) #indexing within a particular range\n",
    "print(songs[-5], 'is a bright song.')\n",
    "print('A road trip song is',songs[2],'.')"
   ]
  },
  {
   "cell_type": "code",
   "execution_count": 49,
   "id": "95f1560b",
   "metadata": {},
   "outputs": [
    {
     "data": {
      "text/plain": [
       "[]"
      ]
     },
     "execution_count": 49,
     "metadata": {},
     "output_type": "execute_result"
    }
   ],
   "source": [
    "songs[-1:2]"
   ]
  },
  {
   "cell_type": "code",
   "execution_count": 3,
   "id": "73bf47ae",
   "metadata": {},
   "outputs": [
    {
     "data": {
      "text/plain": [
       "['The Happiest Girl', 'Typa Gurl', 'Yeah Yeah Yeah']"
      ]
     },
     "execution_count": 3,
     "metadata": {},
     "output_type": "execute_result"
    }
   ],
   "source": [
    "songs[0:3]"
   ]
  },
  {
   "cell_type": "code",
   "execution_count": 55,
   "id": "2ccbee13",
   "metadata": {},
   "outputs": [
    {
     "name": "stdout",
     "output_type": "stream",
     "text": [
      "['purple', 'black', 'grey', 'mint', 'glaucous', 'blue', 'amber', 'dioxazine']\n"
     ]
    }
   ],
   "source": [
    "shades=['purple', 'black', 'grey', 'mint', 'glaucous','lilac','dioxazine']\n",
    "shades[-2:-1]=['blue', 'amber'] #rewriting the elements of a list using the index value\n",
    "print(shades)"
   ]
  },
  {
   "cell_type": "code",
   "execution_count": 58,
   "id": "959c3cc5",
   "metadata": {},
   "outputs": [
    {
     "name": "stdout",
     "output_type": "stream",
     "text": [
      "['purple', 'black', 'grey', 'mint', 'golden', 'glaucous', 'lilac', 'dioxazine']\n"
     ]
    }
   ],
   "source": [
    "shades=['purple', 'black', 'grey', 'mint', 'glaucous','lilac','dioxazine']\n",
    "shades.insert(4,'golden') #inserting an element into a list by specifying the index value and the name of the new element\n",
    "print(shades)"
   ]
  },
  {
   "cell_type": "code",
   "execution_count": 60,
   "id": "abbc57b6",
   "metadata": {},
   "outputs": [
    {
     "name": "stdout",
     "output_type": "stream",
     "text": [
      "['purple', 'black', 'grey', 'mint', 'glaucous', 'lilac', 'dioxazine', 'pink']\n"
     ]
    }
   ],
   "source": [
    "shades=['purple', 'black', 'grey', 'mint', 'glaucous','lilac','dioxazine']\n",
    "shades.append('pink') #appending an element at the end of a list\n",
    "print(shades)"
   ]
  },
  {
   "cell_type": "code",
   "execution_count": 62,
   "id": "2f9a6855",
   "metadata": {
    "scrolled": true
   },
   "outputs": [
    {
     "name": "stdout",
     "output_type": "stream",
     "text": [
      "None\n",
      "['purple', 'black', 'grey', 'mint', 'lilac', 'dioxazine']\n"
     ]
    }
   ],
   "source": [
    "shades=['purple', 'black', 'grey', 'mint', 'glaucous','lilac','dioxazine']\n",
    "print(shades.remove('glaucous')) #removing an element from a list by specifying it's name\n",
    "print(shades)"
   ]
  },
  {
   "cell_type": "code",
   "execution_count": 63,
   "id": "927299da",
   "metadata": {},
   "outputs": [
    {
     "name": "stdout",
     "output_type": "stream",
     "text": [
      "['purple', 'black', 'mint', 'glaucous', 'lilac', 'dioxazine']\n"
     ]
    }
   ],
   "source": [
    "shades=['purple', 'black', 'grey', 'mint', 'glaucous','lilac','dioxazine']\n",
    "shades.pop(2) #popping an element from a list by specifying it's index value\n",
    "print(shades)"
   ]
  },
  {
   "cell_type": "code",
   "execution_count": 71,
   "id": "bb1def09",
   "metadata": {
    "scrolled": false
   },
   "outputs": [
    {
     "name": "stdout",
     "output_type": "stream",
     "text": [
      "['purple', 'black', 'mint', 'glaucous', 'lilac', 'dioxazine']\n"
     ]
    }
   ],
   "source": [
    "shades=['purple', 'black', 'grey', 'mint', 'glaucous','lilac','dioxazine']\n",
    "del shades[2] #deleting an element from the list by specifying it's index number\n",
    "print(shades)"
   ]
  },
  {
   "cell_type": "code",
   "execution_count": 72,
   "id": "53cea82e",
   "metadata": {},
   "outputs": [
    {
     "name": "stdout",
     "output_type": "stream",
     "text": [
      "[]\n"
     ]
    }
   ],
   "source": [
    "shades=['purple', 'black', 'grey', 'mint', 'glaucous','lilac','dioxazine']\n",
    "shades.clear() #clearing or deleting or removing all the elements from a list and making the list empty\n",
    "print(shades)"
   ]
  }
 ],
 "metadata": {
  "kernelspec": {
   "display_name": "Python 3 (ipykernel)",
   "language": "python",
   "name": "python3"
  },
  "language_info": {
   "codemirror_mode": {
    "name": "ipython",
    "version": 3
   },
   "file_extension": ".py",
   "mimetype": "text/x-python",
   "name": "python",
   "nbconvert_exporter": "python",
   "pygments_lexer": "ipython3",
   "version": "3.11.1"
  }
 },
 "nbformat": 4,
 "nbformat_minor": 5
}
